{
 "cells": [
  {
   "cell_type": "code",
   "execution_count": 3,
   "id": "dc31e46d",
   "metadata": {},
   "outputs": [],
   "source": [
    "import pandas as pd\n"
   ]
  },
  {
   "cell_type": "code",
   "execution_count": 4,
   "id": "e3e8039b",
   "metadata": {},
   "outputs": [],
   "source": [
    "jeopardy_data = pd.read_csv(\"jeopardy.csv\")"
   ]
  },
  {
   "cell_type": "code",
   "execution_count": 11,
   "id": "f99bbaab",
   "metadata": {},
   "outputs": [
    {
     "name": "stdout",
     "output_type": "stream",
     "text": [
      "Index(['Show Number', 'Air Date', 'Round', 'Category', 'Value', 'Question',\n",
      "       'Answer'],\n",
      "      dtype='object')\n"
     ]
    }
   ],
   "source": [
    "print(jeopardy_data.columns)"
   ]
  },
  {
   "cell_type": "code",
   "execution_count": 9,
   "id": "64d36a97",
   "metadata": {},
   "outputs": [
    {
     "name": "stdout",
     "output_type": "stream",
     "text": [
      "Index(['Show Number', 'Air Date', 'Round', 'Category', 'Value', 'Question',\n",
      "       'Answer'],\n",
      "      dtype='object')\n",
      "0         For the last 8 years of his life, Galileo was under house arrest for espousing this man's theory                      \n",
      "1         No. 2: 1912 Olympian; football star at Carlisle Indian School; 6 MLB seasons with the Reds, Giants & Braves           \n",
      "2         The city of Yuma in this state has a record average of 4,055 hours of sunshine each year                              \n",
      "3         In 1963, live on \"The Art Linkletter Show\", this company served its billionth burger                                  \n",
      "4         Signer of the Dec. of Indep., framer of the Constitution of Mass., second President of the United States              \n",
      "                                                            ...                                                                 \n",
      "216925    This Puccini opera turns on the solution to 3 riddles posed by the heroine                                            \n",
      "216926    In North America this term is properly applied to only 4 species that are crested, including the tufted               \n",
      "216927    In Penny Lane, where this \"Hellraiser\" grew up, the barber shaves another customer--then flays him alive!             \n",
      "216928    From Ft. Sill, Okla. he made the plea, Arizona is my land, my home, my father's land, to which I now ask to... return\"\n",
      "216929    A silent movie title includes the last name of this 18th c. statesman & favorite of Catherine the Great               \n",
      "Name: Question, Length: 216930, dtype: object\n"
     ]
    }
   ],
   "source": [
    "# Renaming misformatted columns\n",
    "jeopardy_data = jeopardy_data.rename(columns = {\" Air Date\": \"Air Date\", \" Round\" : \"Round\", \" Category\": \"Category\", \" Value\": \"Value\", \" Question\":\"Question\", \" Answer\": \"Answer\"})\n",
    "#print(jeopardy_data.columns)\n",
    "#print(jeopardy_data[\"Question\"])"
   ]
  },
  {
   "cell_type": "code",
   "execution_count": 10,
   "id": "e804eb42",
   "metadata": {},
   "outputs": [],
   "source": [
    "# Filtering a dataset by a list of words\n",
    "def filter_data(data, words):\n",
    "  # Lowercases all words in the list of words as well as the questions. Returns true is all of the words in the list appear in the question.\n",
    "  filter = lambda x: all(word.lower() in x.lower() for word in words)\n",
    "  # Applies the labmda function to the Question column and returns the rows where the function returned True\n",
    "  return data.loc[data[\"Question\"].apply(filter)]"
   ]
  },
  {
   "cell_type": "code",
   "execution_count": 12,
   "id": "5e20ed05",
   "metadata": {},
   "outputs": [
    {
     "name": "stdout",
     "output_type": "stream",
     "text": [
      "4953      Both England's King George V & FDR put their stamp of approval on this \"King of Hobbies\"              \n",
      "6337      In retaliation for Viking raids, this \"Unready\" king of England attacks Norse areas of the Isle of Man\n",
      "9191      This king of England beat the odds to trounce the French in the 1415 Battle of Agincourt              \n",
      "11710     This Scotsman, the first Stuart king of England, was called \"The Wisest Fool in Christendom\"          \n",
      "13454     It's the number that followed the last king of England named William                                  \n",
      "                                          ...                                                                   \n",
      "208295    In 1066 this great-great grandson of Rollo made what some call the last Viking invasion of England    \n",
      "208742    Dutch-born king who ruled England jointly with Mary II & is a tasty New Zealand fish                  \n",
      "213870    In 1781 William Herschel discovered Uranus & initially named it after this king of England            \n",
      "216021    His nickname was \"Bertie\", but he used this name & number when he became king of England in 1901      \n",
      "216789    This kingdom of England grew from 2 settlements, one founded around 495 by Cerdic & his son Cynric    \n",
      "Name: Question, Length: 152, dtype: object\n"
     ]
    }
   ],
   "source": [
    "# Testing the filter function\n",
    "filtered = filter_data(jeopardy_data, [\"King\", \"England\"])\n",
    "print(filtered[\"Question\"])"
   ]
  },
  {
   "cell_type": "code",
   "execution_count": 13,
   "id": "6dade94d",
   "metadata": {},
   "outputs": [],
   "source": [
    "# Adding a new column. If the value of the float column is not \"None\", then we cut off the first character (which is a dollar sign), and replace all commas with nothing, and then cast that value to a float. If the answer was \"None\", then we just enter a 0.\n",
    "jeopardy_data[\"Float Value\"] = jeopardy_data[\"Value\"].apply(lambda x: float(x[1:].replace(',','')) if x != \"None\" else 0)"
   ]
  },
  {
   "cell_type": "code",
   "execution_count": 14,
   "id": "bd688a92",
   "metadata": {},
   "outputs": [
    {
     "name": "stdout",
     "output_type": "stream",
     "text": [
      "771.8833850722094\n"
     ]
    }
   ],
   "source": [
    "# Filtering the dataset and finding the average value of those questions\n",
    "filtered = filter_data(jeopardy_data, [\"King\"])\n",
    "print(filtered[\"Float Value\"].mean())"
   ]
  },
  {
   "cell_type": "code",
   "execution_count": 15,
   "id": "a315a601",
   "metadata": {},
   "outputs": [],
   "source": [
    "# A function to find the unique answers of a set of data\n",
    "def get_answer_counts(data):\n",
    "    return data[\"Answer\"].value_counts()\n"
   ]
  },
  {
   "cell_type": "code",
   "execution_count": 16,
   "id": "860c1a8a",
   "metadata": {},
   "outputs": [
    {
     "name": "stdout",
     "output_type": "stream",
     "text": [
      "Henry VIII                   55\n",
      "Solomon                      35\n",
      "Richard III                  33\n",
      "Louis XIV                    31\n",
      "David                        30\n",
      "                             ..\n",
      "cardiac (in card I acted)    1 \n",
      "Henderson                    1 \n",
      "Computer                     1 \n",
      "Indians                      1 \n",
      "work                         1 \n",
      "Name: Answer, Length: 5268, dtype: int64\n"
     ]
    }
   ],
   "source": [
    "# Testing the answer count function\n",
    "print(get_answer_counts(filtered))"
   ]
  },
  {
   "cell_type": "code",
   "execution_count": null,
   "id": "a1f82f7c",
   "metadata": {},
   "outputs": [],
   "source": []
  }
 ],
 "metadata": {
  "kernelspec": {
   "display_name": "Python 3 (ipykernel)",
   "language": "python",
   "name": "python3"
  },
  "language_info": {
   "codemirror_mode": {
    "name": "ipython",
    "version": 3
   },
   "file_extension": ".py",
   "mimetype": "text/x-python",
   "name": "python",
   "nbconvert_exporter": "python",
   "pygments_lexer": "ipython3",
   "version": "3.9.7"
  }
 },
 "nbformat": 4,
 "nbformat_minor": 5
}
